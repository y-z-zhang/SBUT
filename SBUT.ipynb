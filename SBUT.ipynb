{
  "cells": [
    {
      "cell_type": "code",
      "source": [
        "#"
      ],
      "outputs": [],
      "execution_count": null,
      "metadata": {
        "jupyter": {
          "source_hidden": false,
          "outputs_hidden": false
        },
        "nteract": {
          "transient": {
            "deleting": false
          }
        }
      }
    },
    {
      "cell_type": "code",
      "source": [
        "import matplotlib.pyplot as plt\n",
        "import numpy as np\n",
        "#from numpy.linalg import inv\n",
        "import matplotlib\n",
        "from sympy import Matrix, pprint\n",
        "plt.rc('text', usetex=True)\n",
        "\n",
        "#"
      ],
      "outputs": [],
      "execution_count": null,
      "metadata": {
        "jupyter": {
          "source_hidden": false,
          "outputs_hidden": false
        },
        "nteract": {
          "transient": {
            "deleting": false
          }
        }
      }
    },
    {
      "cell_type": "markdown",
      "source": [
        "Example 1: Directed network with a master cluster and a slave cluster\n",
        "\n"
      ],
      "metadata": {
        "nteract": {
          "transient": {
            "deleting": false
          }
        }
      }
    },
    {
      "cell_type": "code",
      "source": [
        "# Adjacency matrix A encoding the network structure and diagonal matrices C1 and C2 encoding clusters\n",
        "A = np.array([[0, 0, 0, 0, 0, 0, 0], [1, 0, 0, 0, 0, 0, 0], [0, 1, 0, 0, 0, 0, 0], [1, 0, 0, 0, 1, 1, 0], [1, 0, 0, 1, 0, 0, 1], [0, 1, 0, 1, 0, 0, 1], [0, 0, 1, 0, 1, 1, 0]])\n",
        "C1 = np.diag([1, 1, 1, 0, 0, 0, 0])\n",
        "C2 = np.diag([0, 0, 0, 1, 1, 1, 1])\n",
        "\n",
        "# Convert adjacency matrix A into Laplacian matrix L to account for diffusive coupling\n",
        "L = np.diag(np.sum(A, axis=1)) - A\n",
        "\n",
        "# Generate a single matrix M from L, C1 and C2\n",
        "M = Matrix(2*C1@L@C1 + 5*C2@L@C2)\n",
        "\n",
        "# Find a basis for the common block upper triangular form by finding the Jordan decomposition of M\n",
        "P, J = M.jordan_form()\n",
        "TempL = P.inv()*L*P\n",
        "#pprint(J)\n",
        "\n",
        "# Reorder the basis P so that it reveals the common block upper triangular form\n",
        "order = [0,3,4,5,6,1,2]\n",
        "FinalL = TempL[order,order]\n",
        "FinalP = P[:,order]#.simplify()\n",
        "pprint(FinalL)\n",
        "pprint(FinalP)\n",
        "\n",
        "\n",
        "#"
      ],
      "outputs": [],
      "execution_count": null,
      "metadata": {
        "jupyter": {
          "source_hidden": false,
          "outputs_hidden": false
        },
        "nteract": {
          "transient": {
            "deleting": false
          }
        }
      }
    },
    {
      "cell_type": "markdown",
      "source": [
        "Example 2: Directed network formed by four clusters with directional flow\n",
        "\n"
      ],
      "metadata": {
        "nteract": {
          "transient": {
            "deleting": false
          }
        }
      }
    },
    {
      "cell_type": "code",
      "source": [
        "# Adjacency matrix A and diagonal matrices C1 to C4 encoding clusters\n",
        "A = np.array([[0, 1, 0, 0, 0, 0, 0, 1], [1, 0, 1, 0, 0, 0, 1, 0], [1, 0, 0, 0, 0, 0, 0, 1], [1, 1, 0, 0, 1, 0, 0, 0], [0, 1, 1, 1, 0, 0, 0, 0], [0, 0, 0, 1, 0, 0, 0, 0], [0, 0, 0, 0, 0, 1, 0, 1],[0, 0, 0, 0, 0, 1, 1, 0]])\n",
        "C1 = np.diag([1, 1, 1, 0, 0, 0, 0, 0])\n",
        "C2 = np.diag([0, 0, 0, 1, 1, 0, 0, 0])\n",
        "C3 = np.diag([0, 0, 0, 0, 0, 1, 0, 0])\n",
        "C4 = np.diag([0, 0, 0, 0, 0, 0, 1, 1])\n",
        "\n",
        "# Convert adjacency matrix A into Laplacian matrix L\n",
        "L = np.diag(np.sum(A, axis=1)) - A\n",
        "\n",
        "# Generate a single matrix M from L, C1, C2, C3, and C4\n",
        "M = Matrix(2*C1@L@C1 + 3*C2@L@C2 + 5*C3@L@C3 + 7*C4@L@C4)\n",
        "\n",
        "# Find a basis for the common block upper triangular form by finding the Jordan decomposition of M\n",
        "P, J = M.jordan_form()\n",
        "TempL = P.inv()*L*P\n",
        "\n",
        "# Reorder the basis P so that it reveals the common block upper triangular form\n",
        "order = [0,4,1,5,6,2,3,7]\n",
        "FinalL = TempL[order,order]\n",
        "FinalP = P[:,order]#.simplify()\n",
        "pprint(FinalL)\n",
        "pprint(FinalP)\n",
        "\n",
        "#"
      ],
      "outputs": [],
      "execution_count": null,
      "metadata": {
        "jupyter": {
          "source_hidden": false,
          "outputs_hidden": false
        },
        "nteract": {
          "transient": {
            "deleting": false
          }
        }
      }
    },
    {
      "cell_type": "markdown",
      "source": [
        "Example 3: Two intertwined clusters with bi-directional flow\n",
        "\n"
      ],
      "metadata": {
        "nteract": {
          "transient": {
            "deleting": false
          }
        }
      }
    },
    {
      "cell_type": "code",
      "source": [
        "# Adjacency matrix A and diagonal matrices C1 and C2 encoding clusters\n",
        "A = np.array([[0, 1, 0, 1, 0, 1], [1, 0, 1, 0, 0, 1], [0, 1, 0, 1, 1, 0], [1, 0, 1, 0, 1, 0], [1, 0, 0, 1, 0, 0], [0, 1, 1, 0, 0, 0]])\n",
        "C1 = np.diag([1, 1, 1, 1, 0, 0])\n",
        "C2 = np.diag([0, 0, 0, 0, 1, 1])\n",
        "\n",
        "# Convert adjacency matrix A into Laplacian matrix L\n",
        "L = np.diag(np.sum(A, axis=1)) - A\n",
        "\n",
        "# Generate a single matrix M from L, C1 and C2\n",
        "M = Matrix(2*L + 3*C1 + 5*C2)\n",
        "\n",
        "# Find a basis for the common block upper triangular form by finding the Jordan decomposition of M\n",
        "P, J = M.jordan_form()\n",
        "TempL = P.inv()*L*P\n",
        "\n",
        "# Reorder the basis P so that it reveals the common block upper triangular form\n",
        "order = [4,5,3,0,1,2]\n",
        "FinalL = TempL[order,order]\n",
        "FinalB = P[:,order]#.simplify()\n",
        "pprint(FinalL)\n",
        "pprint(FinalB)"
      ],
      "outputs": [],
      "execution_count": null,
      "metadata": {
        "jupyter": {
          "source_hidden": false,
          "outputs_hidden": false
        },
        "nteract": {
          "transient": {
            "deleting": false
          }
        }
      }
    }
  ],
  "metadata": {
    "kernelspec": {
      "argv": [
        "/Users/yuanzhao/opt/anaconda3/bin/python",
        "-m",
        "ipykernel_launcher",
        "-f",
        "{connection_file}"
      ],
      "display_name": "Python 3",
      "language": "python",
      "name": "python3"
    }
  },
  "nbformat": 4,
  "nbformat_minor": 0
}